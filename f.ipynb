{
 "cells": [
  {
   "cell_type": "code",
   "execution_count": 2,
   "id": "88848eb8",
   "metadata": {},
   "outputs": [],
   "source": [
    "list =[1,2,6,3,4]"
   ]
  },
  {
   "cell_type": "code",
   "execution_count": null,
   "id": "0fc89a16",
   "metadata": {},
   "outputs": [
    {
     "name": "stdout",
     "output_type": "stream",
     "text": [
      "5\n"
     ]
    }
   ],
   "source": [
    "len(list)"
   ]
  },
  {
   "cell_type": "code",
   "execution_count": 5,
   "id": "3363328c",
   "metadata": {},
   "outputs": [],
   "source": [
    "def merge_sort(student_grad):\n",
    "    if len(student_grad) <= 1:\n",
    "            return student_grad\n",
    "\n",
    "    mid = len(student_grad) // 2\n",
    "    left = merge_sort(student_grad[:mid])\n",
    "    right = merge_sort(student_grad[mid:])\n",
    "    return merge(right, left )\n",
    "\n",
    "\n",
    "def merge(right, left):\n",
    "    extra_list = []\n",
    "    i = j = 0\n",
    "    while i < len(left) and j < len(right):\n",
    "        if left[i] < right[j]:\n",
    "            extra_list.append(left[i])\n",
    "            i += 1\n",
    "        else:\n",
    "            extra_list.append(right[j])\n",
    "            j += 1\n",
    "\n",
    "    extra_list.extend(left[i:])\n",
    "    extra_list.extend(right[j:])\n",
    "    return extra_list"
   ]
  },
  {
   "cell_type": "code",
   "execution_count": null,
   "id": "885a8c0f",
   "metadata": {},
   "outputs": [
    {
     "data": {
      "text/plain": [
       "[12, 22, 44, 76, 99]"
      ]
     },
     "execution_count": 6,
     "metadata": {},
     "output_type": "execute_result"
    },
    {
     "ename": "",
     "evalue": "",
     "output_type": "error",
     "traceback": [
      "\u001b[1;31mThe Kernel crashed while executing code in the current cell or a previous cell. \n",
      "\u001b[1;31mPlease review the code in the cell(s) to identify a possible cause of the failure. \n",
      "\u001b[1;31mClick <a href='https://aka.ms/vscodeJupyterKernelCrash'>here</a> for more info. \n",
      "\u001b[1;31mView Jupyter <a href='command:jupyter.viewOutput'>log</a> for further details."
     ]
    }
   ],
   "source": [
    "merge_sort([76,22,12,99,44])"
   ]
  },
  {
   "cell_type": "code",
   "execution_count": null,
   "id": "67ba986b",
   "metadata": {},
   "outputs": [
    {
     "data": {
      "text/plain": [
       "8"
      ]
     },
     "execution_count": 2,
     "metadata": {},
     "output_type": "execute_result"
    }
   ],
   "source": [
    "[(8,9),(56,8),(432,5),(54,9)].mean()"
   ]
  },
  {
   "cell_type": "code",
   "execution_count": 1,
   "id": "41d84574",
   "metadata": {},
   "outputs": [
    {
     "ename": "AttributeError",
     "evalue": "module 'math' has no attribute 'mean'",
     "output_type": "error",
     "traceback": [
      "\u001b[1;31m---------------------------------------------------------------------------\u001b[0m",
      "\u001b[1;31mAttributeError\u001b[0m                            Traceback (most recent call last)",
      "Cell \u001b[1;32mIn[1], line 2\u001b[0m\n\u001b[0;32m      1\u001b[0m \u001b[38;5;28;01mimport\u001b[39;00m\u001b[38;5;250m \u001b[39m\u001b[38;5;21;01mmath\u001b[39;00m\n\u001b[1;32m----> 2\u001b[0m \u001b[43mmath\u001b[49m\u001b[38;5;241;43m.\u001b[39;49m\u001b[43mmean\u001b[49m([\u001b[38;5;241m7\u001b[39m,\u001b[38;5;241m8\u001b[39m,\u001b[38;5;241m5\u001b[39m,\u001b[38;5;241m9\u001b[39m])\n",
      "\u001b[1;31mAttributeError\u001b[0m: module 'math' has no attribute 'mean'"
     ]
    }
   ],
   "source": [
    "import math\n",
    "math.mean([7,8,5,9])"
   ]
  },
  {
   "cell_type": "code",
   "execution_count": 6,
   "id": "6629bfec",
   "metadata": {},
   "outputs": [],
   "source": [
    "import pandas as pd  \n",
    "me =pd.DataFrame([8,9,4,8]).mode()"
   ]
  },
  {
   "cell_type": "code",
   "execution_count": 10,
   "id": "ebcfb927",
   "metadata": {},
   "outputs": [
    {
     "data": {
      "text/plain": [
       "8"
      ]
     },
     "execution_count": 10,
     "metadata": {},
     "output_type": "execute_result"
    }
   ],
   "source": [
    "me[0][0]\n"
   ]
  },
  {
   "cell_type": "code",
   "execution_count": null,
   "id": "e28a39c6",
   "metadata": {},
   "outputs": [],
   "source": []
  }
 ],
 "metadata": {
  "kernelspec": {
   "display_name": "tf-gpu-lite",
   "language": "python",
   "name": "python3"
  },
  "language_info": {
   "codemirror_mode": {
    "name": "ipython",
    "version": 3
   },
   "file_extension": ".py",
   "mimetype": "text/x-python",
   "name": "python",
   "nbconvert_exporter": "python",
   "pygments_lexer": "ipython3",
   "version": "3.9.21"
  }
 },
 "nbformat": 4,
 "nbformat_minor": 5
}
